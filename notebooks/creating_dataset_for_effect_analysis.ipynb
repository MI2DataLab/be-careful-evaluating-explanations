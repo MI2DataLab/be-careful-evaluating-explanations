{
 "cells": [
  {
   "cell_type": "code",
   "execution_count": null,
   "metadata": {},
   "outputs": [],
   "source": [
    "import pandas as pd\n",
    "from pathlib import Path"
   ]
  },
  {
   "cell_type": "code",
   "execution_count": null,
   "metadata": {},
   "outputs": [],
   "source": [
    "results_folder = Path(\"results\")"
   ]
  },
  {
   "cell_type": "code",
   "execution_count": null,
   "metadata": {},
   "outputs": [],
   "source": [
    "def tensor_to_float(x):\n",
    "    return float(x.replace(\"tensor(\", \"\").replace(\")\", \"\"))"
   ]
  },
  {
   "cell_type": "code",
   "execution_count": null,
   "metadata": {},
   "outputs": [],
   "source": [
    "methods = [\"lrp\", \"gradient\", \"integrated_gradients\", \"smoothgrad\"]\n",
    "pretraining_methods = [\"from_scratch\", \"pretrained\"]\n",
    "models = [\"densenet\", \"swinvit\", \"vit\"]\n",
    "labels = [\n",
    "    \"Enlarged Cardiomediastinum\",\n",
    "    \"Cardiomegaly\",\n",
    "    \"Lung Opacity\",\n",
    "    \"Lung Lesion\",\n",
    "    \"Edema\",\n",
    "    \"Consolidation\",\n",
    "    \"Atelectasis\",\n",
    "    \"Pneumothorax\",\n",
    "    \"Pleural Effusion\",\n",
    "]\n",
    "metrics = [\"mass_accuracy\", \"rank_accuracy\"]"
   ]
  },
  {
   "cell_type": "code",
   "execution_count": null,
   "metadata": {},
   "outputs": [],
   "source": [
    "diff_results = []\n",
    "for xai_method in methods:\n",
    "    for pretraining in pretraining_methods:\n",
    "        for label in labels:\n",
    "            for model in models:\n",
    "                pos_df = pd.read_csv(\n",
    "                    results_folder\n",
    "                    / f\"finetuned_{model}\"\n",
    "                    / pretraining\n",
    "                    / \"normal_mask\"\n",
    "                    / f\"_{label}_{xai_method}_output.csv\"\n",
    "                )\n",
    "                neg_df = pd.read_csv(\n",
    "                    results_folder\n",
    "                    / f\"finetuned_{model}\"\n",
    "                    / pretraining\n",
    "                    / \"inverse_mask\"\n",
    "                    / f\"_{label}_{xai_method}_output.csv\"\n",
    "                )\n",
    "                pos_df.mass_accuracy = pos_df.mass_accuracy.apply(\n",
    "                    tensor_to_float\n",
    "                )\n",
    "                pos_df.rank_accuracy = pos_df.rank_accuracy.apply(\n",
    "                    tensor_to_float\n",
    "                )\n",
    "                neg_df.mass_accuracy = neg_df.mass_accuracy.apply(\n",
    "                    tensor_to_float\n",
    "                )\n",
    "                neg_df.rank_accuracy = neg_df.rank_accuracy.apply(\n",
    "                    tensor_to_float\n",
    "                )\n",
    "\n",
    "                pos_df = pos_df.dropna()\n",
    "                neg_df = neg_df.dropna()\n",
    "                joined_df = pd.merge(\n",
    "                    pos_df, neg_df, on=\"path\", suffixes=(\"_pos\", \"_neg\")\n",
    "                )\n",
    "                if joined_df.mass_accuracy_pos.isnull().sum() > 0:\n",
    "                    print(pos_df)\n",
    "                if joined_df.shape[0] == 0:\n",
    "                    continue\n",
    "                mass_accuracy_diff = (\n",
    "                    joined_df.mass_accuracy_pos - joined_df.mass_accuracy_neg\n",
    "                ).values\n",
    "                rank_accuracy_diff = (\n",
    "                    joined_df.rank_accuracy_pos - joined_df.rank_accuracy_neg\n",
    "                ).values\n",
    "                cur_df = pd.DataFrame(\n",
    "                    {\n",
    "                        \"mass_accuracy_diff\": mass_accuracy_diff,\n",
    "                        \"rank_accuracy_diff\": rank_accuracy_diff,\n",
    "                        \"in_mask_mass_accuracy\": joined_df.mass_accuracy_pos.tolist(),\n",
    "                        \"in_mask_rank_accuracy\": joined_df.rank_accuracy_pos.tolist(),\n",
    "                        \"out_mask_mass_accuracy\": joined_df.mass_accuracy_neg.tolist(),\n",
    "                        \"out_mask_rank_accuracy\": joined_df.rank_accuracy_neg.tolist(),\n",
    "                    }\n",
    "                )\n",
    "                cur_df[\"model\"] = model\n",
    "                cur_df[\"xai_method\"] = xai_method\n",
    "                cur_df[\"pretraining\"] = pretraining\n",
    "                cur_df[\"label\"] = label\n",
    "                diff_results.append(cur_df)\n",
    "\n",
    "diff_df = pd.concat(diff_results, ignore_index=True, axis=0)"
   ]
  },
  {
   "cell_type": "code",
   "execution_count": null,
   "metadata": {},
   "outputs": [],
   "source": [
    "diff_df[diff_df.xai_method == \"lrp\"].model.value_counts()"
   ]
  },
  {
   "cell_type": "code",
   "execution_count": null,
   "metadata": {},
   "outputs": [],
   "source": [
    "diff_df.to_csv(results_folder / \"metrics_diff_results.csv\", index=False)"
   ]
  }
 ],
 "metadata": {
  "kernelspec": {
   "display_name": ".chexpert",
   "language": "python",
   "name": "python3"
  },
  "language_info": {
   "codemirror_mode": {
    "name": "ipython",
    "version": 3
   },
   "file_extension": ".py",
   "mimetype": "text/x-python",
   "name": "python",
   "nbconvert_exporter": "python",
   "pygments_lexer": "ipython3",
   "version": "3.9.16"
  },
  "orig_nbformat": 4
 },
 "nbformat": 4,
 "nbformat_minor": 2
}
